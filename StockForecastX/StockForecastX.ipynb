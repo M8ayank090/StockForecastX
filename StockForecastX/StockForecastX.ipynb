{
 "cells": [
  {
   "cell_type": "code",
   "execution_count": null,
   "id": "c9be719d",
   "metadata": {},
   "outputs": [],
   "source": [
    "import numpy as np \n",
    "import pandas as pd\n",
    "import matplotlib.pyplot as plt\n",
    "import seaborn as sns\n",
    "import plotly.express as px"
   ]
  },
  {
   "cell_type": "code",
   "execution_count": null,
   "id": "d90fb63b",
   "metadata": {},
   "outputs": [],
   "source": [
    "google = pd.read_csv('GOOGL_2006-01-01_to_2018-01-01.csv', index_col='Date', parse_dates=['Date'])\n",
    "google.head()"
   ]
  },
  {
   "cell_type": "code",
   "execution_count": null,
   "id": "755f16dc",
   "metadata": {},
   "outputs": [],
   "source": [
    "microsoft = pd.read_csv('MSFT_2006-01-01_to_2018-01-01.csv', index_col='Date', parse_dates=['Date'])\n",
    "microsoft.head()"
   ]
  },
  {
   "cell_type": "code",
   "execution_count": null,
   "id": "76689d89",
   "metadata": {},
   "outputs": [],
   "source": [
    "amazon = pd.read_csv('AMZN_2006-01-01_to_2018-01-01.csv', index_col='Date', parse_dates=['Date'])\n",
    "amazon.head()"
   ]
  },
  {
   "cell_type": "code",
   "execution_count": null,
   "id": "5a757923",
   "metadata": {},
   "outputs": [],
   "source": [
    "ibm = pd.read_csv('IBM_2006-01-01_to_2018-01-01.csv', index_col='Date', parse_dates=['Date'])\n",
    "ibm.head()"
   ]
  },
  {
   "cell_type": "code",
   "execution_count": null,
   "id": "ec6b93be",
   "metadata": {},
   "outputs": [],
   "source": [
    "google.describe()"
   ]
  },
  {
   "cell_type": "code",
   "execution_count": null,
   "id": "82090354",
   "metadata": {},
   "outputs": [],
   "source": [
    "google.columns"
   ]
  },
  {
   "cell_type": "code",
   "execution_count": null,
   "id": "fd5cb115",
   "metadata": {},
   "outputs": [],
   "source": [
    "google.info()"
   ]
  },
  {
   "cell_type": "code",
   "execution_count": null,
   "id": "4987da56",
   "metadata": {},
   "outputs": [],
   "source": [
    "google.isna().sum()"
   ]
  },
  {
   "cell_type": "code",
   "execution_count": null,
   "id": "9d08db5b",
   "metadata": {},
   "outputs": [],
   "source": [
    "microsoft.describe()"
   ]
  },
  {
   "cell_type": "code",
   "execution_count": null,
   "id": "2e361be2",
   "metadata": {},
   "outputs": [],
   "source": [
    "microsoft.columns"
   ]
  },
  {
   "cell_type": "code",
   "execution_count": null,
   "id": "305c286e",
   "metadata": {},
   "outputs": [],
   "source": [
    "microsoft.info()\n",
    "microsoft.isna().sum()"
   ]
  },
  {
   "cell_type": "code",
   "execution_count": null,
   "id": "624a56f4",
   "metadata": {},
   "outputs": [],
   "source": [
    "amazon.describe()"
   ]
  },
  {
   "cell_type": "code",
   "execution_count": null,
   "id": "ac9f3cd3",
   "metadata": {},
   "outputs": [],
   "source": [
    "amazon.columns"
   ]
  },
  {
   "cell_type": "code",
   "execution_count": null,
   "id": "dee094f6",
   "metadata": {},
   "outputs": [],
   "source": [
    "amazon.info()\n",
    "amazon.isna().sum()"
   ]
  },
  {
   "cell_type": "code",
   "execution_count": null,
   "id": "86d35ada",
   "metadata": {},
   "outputs": [],
   "source": [
    "ibm.describe()"
   ]
  },
  {
   "cell_type": "code",
   "execution_count": null,
   "id": "c0cd667e",
   "metadata": {},
   "outputs": [],
   "source": [
    "ibm.columns"
   ]
  },
  {
   "cell_type": "code",
   "execution_count": null,
   "id": "68dfff73",
   "metadata": {},
   "outputs": [],
   "source": [
    "ibm.info()\n",
    "ibm.isna().sum()"
   ]
  },
  {
   "cell_type": "code",
   "execution_count": null,
   "id": "23c210d5",
   "metadata": {},
   "outputs": [],
   "source": [
    "ibm.dropna(inplace=True)"
   ]
  },
  {
   "cell_type": "code",
   "execution_count": null,
   "id": "f3b21e56",
   "metadata": {},
   "outputs": [],
   "source": [
    "ibm.isna().sum()"
   ]
  },
  {
   "cell_type": "code",
   "execution_count": null,
   "id": "7dfa41c6",
   "metadata": {},
   "outputs": [],
   "source": [
    "fig = px.histogram(google, \n",
    "                   x='Close', \n",
    "                   marginal='box', \n",
    "                   nbins=47, \n",
    "                   title='Distribution of Close')\n",
    "fig.update_layout(bargap=0.1)\n",
    "fig.show()"
   ]
  },
  {
   "cell_type": "code",
   "execution_count": null,
   "id": "38751b90",
   "metadata": {},
   "outputs": [],
   "source": [
    "fig = px.histogram(google, \n",
    "                   x='Open', \n",
    "                   marginal='box', \n",
    "                   color_discrete_sequence=['red'], \n",
    "                   title='Distribution of open')\n",
    "fig.update_layout(bargap=0.1)\n",
    "fig.show()"
   ]
  },
  {
   "cell_type": "code",
   "execution_count": null,
   "id": "90315dbe",
   "metadata": {},
   "outputs": [],
   "source": [
    "fig = px.scatter(google, \n",
    "                 x='Open', \n",
    "                 y='Close', \n",
    "                 \n",
    "                 opacity=0.8, \n",
    "                  \n",
    "                 title='Open vs. Close')\n",
    "fig.update_traces(marker_size=5)\n",
    "fig.show()"
   ]
  },
  {
   "cell_type": "code",
   "execution_count": null,
   "id": "18447deb",
   "metadata": {},
   "outputs": [],
   "source": [
    "google = google.apply(pd.to_numeric, errors='coerce')"
   ]
  },
  {
   "cell_type": "code",
   "execution_count": null,
   "id": "f4a7a8de",
   "metadata": {},
   "outputs": [],
   "source": [
    "google['2008':'2018'].plot(subplots=True, figsize=(10,12))\n",
    "plt.title('Google stock attributes from 2008 to 2018')\n",
    "plt.show()"
   ]
  },
  {
   "cell_type": "code",
   "execution_count": null,
   "id": "cb177b9a",
   "metadata": {},
   "outputs": [],
   "source": [
    "microsoft['2008':'2018'].plot(subplots=True, figsize=(10,12))\n",
    "plt.title('Microsoft stock attributes from 2008 to 2018')\n",
    "plt.show()"
   ]
  },
  {
   "cell_type": "code",
   "execution_count": null,
   "id": "bbdff008",
   "metadata": {},
   "outputs": [],
   "source": [
    "amazon['2008':'2018'].plot(subplots=True, figsize=(10,12))\n",
    "plt.title('Amazon stock attributes from 2008 to 2018')\n",
    "plt.show()"
   ]
  },
  {
   "cell_type": "code",
   "execution_count": null,
   "id": "854dc0b2",
   "metadata": {
    "scrolled": true
   },
   "outputs": [],
   "source": [
    "ibm['2008':'2018'].plot(subplots=True, figsize=(10,12))\n",
    "plt.title('IBM stock attributes from 2008 to 2018')\n",
    "plt.show()"
   ]
  },
  {
   "cell_type": "markdown",
   "id": "2fa461bb",
   "metadata": {},
   "source": [
    "### High Plot"
   ]
  },
  {
   "cell_type": "code",
   "execution_count": null,
   "id": "4bac4ddd",
   "metadata": {},
   "outputs": [],
   "source": [
    "# Plotting before normalization\n",
    "google.High.plot()\n",
    "microsoft.High.plot()\n",
    "amazon.High.plot()\n",
    "ibm.High.plot()\n",
    "plt.legend(['Google','Microsoft','Amazon','IBM'])\n",
    "plt.show()"
   ]
  },
  {
   "cell_type": "code",
   "execution_count": null,
   "id": "0d2672c4",
   "metadata": {},
   "outputs": [],
   "source": [
    "# Normalizing and comparison\n",
    "# Both stocks start from 100\n",
    "'''normalized_google = google.High.div(google.High.iloc[0]).mul(100)\n",
    "normalized_microsoft = microsoft.High.div(microsoft.High.iloc[0]).mul(100)\n",
    "normalized_amazon = amazon.High.div(google.High.iloc[0]).mul(100)\n",
    "normalized_ibm = ibm.High.div(microsoft.High.iloc[0]).mul(100)\n",
    "normalized_google.plot()\n",
    "normalized_microsoft.plot()\n",
    "normalized_amazon.plot()\n",
    "normalized_ibm.plot()\n",
    "plt.legend(['Google','Microsoft','Amazon','IBM'])\n",
    "plt.show()'''"
   ]
  },
  {
   "cell_type": "code",
   "execution_count": null,
   "id": "242ad891",
   "metadata": {},
   "outputs": [],
   "source": [
    "# Expanding window functions\n",
    "microsoft_mean = microsoft.High.expanding().mean()\n",
    "microsoft_std = microsoft.High.expanding().std()\n",
    "microsoft.High.plot()\n",
    "microsoft_mean.plot()\n",
    "microsoft_std.plot()\n",
    "plt.legend(['High','Expanding Mean','Expanding Standard Deviation'])\n",
    "plt.title('Microsoft')\n",
    "plt.show()"
   ]
  },
  {
   "cell_type": "code",
   "execution_count": null,
   "id": "ddf48288",
   "metadata": {},
   "outputs": [],
   "source": [
    "# Expanding window functions\n",
    "google_mean = google.High.expanding().mean()\n",
    "google_std = google.High.expanding().std()\n",
    "google.High.plot()\n",
    "google_mean.plot()\n",
    "google_std.plot()\n",
    "plt.legend(['High','Expanding Mean','Expanding Standard Deviation'])\n",
    "plt.title('Google')\n",
    "plt.show()"
   ]
  },
  {
   "cell_type": "code",
   "execution_count": null,
   "id": "e24f4bc5",
   "metadata": {},
   "outputs": [],
   "source": [
    "# Expanding window functions\n",
    "ibm_mean = ibm.High.expanding().mean()\n",
    "ibm_std = ibm.High.expanding().std()\n",
    "ibm.High.plot()\n",
    "ibm_mean.plot()\n",
    "ibm_std.plot()\n",
    "plt.legend(['High','Expanding Mean','Expanding Standard Deviation'])\n",
    "plt.title('IBM')\n",
    "plt.show()"
   ]
  },
  {
   "cell_type": "code",
   "execution_count": null,
   "id": "f5ed6b50",
   "metadata": {},
   "outputs": [],
   "source": [
    "# Expanding window functions\n",
    "amazon_mean = amazon.High.expanding().mean()\n",
    "amazon_std = amazon.High.expanding().std()\n",
    "amazon.High.plot()\n",
    "amazon_mean.plot()\n",
    "amazon_std.plot()\n",
    "plt.legend(['High','Expanding Mean','Expanding Standard Deviation'])\n",
    "plt.title('Amazon')\n",
    "plt.show()"
   ]
  },
  {
   "cell_type": "code",
   "execution_count": null,
   "id": "f588c3ff",
   "metadata": {},
   "outputs": [],
   "source": [
    "# Expanding window functions\n",
    "google_mean = google.Close.expanding().mean()\n",
    "google_std = google.Close.expanding().std()\n",
    "google.High.plot()\n",
    "google_mean.plot()\n",
    "google_std.plot()\n",
    "plt.legend(['Close','Expanding Mean','Expanding Standard Deviation'])\n",
    "plt.title('Google')\n",
    "plt.show()"
   ]
  },
  {
   "cell_type": "code",
   "execution_count": null,
   "id": "88e7a6c1",
   "metadata": {},
   "outputs": [],
   "source": [
    "from pylab import rcParams\n",
    "import statsmodels.api as sm\n",
    "import matplotlib.pyplot as plt"
   ]
  },
  {
   "cell_type": "code",
   "execution_count": null,
   "id": "fb9ea4ea",
   "metadata": {},
   "outputs": [],
   "source": [
    "rcParams['figure.figsize'] = 11, 9\n",
    "\n",
    "# Perform seasonal decomposition with the correct period parameter\n",
    "decomposed_google_volume = sm.tsa.seasonal_decompose(google[\"High\"], period=360)  # Assuming the period is annual\n",
    "\n",
    "# Plot the decomposition\n",
    "figure = decomposed_google_volume.plot()\n",
    "plt.show()"
   ]
  },
  {
   "cell_type": "code",
   "execution_count": null,
   "id": "ee681faf",
   "metadata": {},
   "outputs": [],
   "source": [
    "rcParams['figure.figsize'] = 11, 9\n",
    "\n",
    "# Perform seasonal decomposition with the correct period parameter\n",
    "decomposed_microsoft_volume = sm.tsa.seasonal_decompose(microsoft[\"High\"], period=360)  # Assuming the period is annual\n",
    "\n",
    "# Plot the decomposition\n",
    "figure = decomposed_microsoft_volume.plot()\n",
    "plt.show()"
   ]
  },
  {
   "cell_type": "code",
   "execution_count": null,
   "id": "849418a9",
   "metadata": {},
   "outputs": [],
   "source": [
    "rcParams['figure.figsize'] = 11, 9\n",
    "\n",
    "# Perform seasonal decomposition with the correct period parameter\n",
    "decomposed_ibm_volume = sm.tsa.seasonal_decompose(ibm[\"High\"], period=360)  # Assuming the period is annual\n",
    "\n",
    "# Plot the decomposition\n",
    "figure = decomposed_ibm_volume.plot()\n",
    "plt.show()"
   ]
  },
  {
   "cell_type": "code",
   "execution_count": null,
   "id": "54216494",
   "metadata": {},
   "outputs": [],
   "source": [
    "rcParams['figure.figsize'] = 11, 9\n",
    "\n",
    "# Perform seasonal decomposition with the correct period parameter\n",
    "decomposed_amazon_volume = sm.tsa.seasonal_decompose(amazon[\"High\"], period=360)  # Assuming the period is annual\n",
    "\n",
    "# Plot the decomposition\n",
    "figure = decomposed_amazon_volume.plot()\n",
    "plt.show()"
   ]
  },
  {
   "cell_type": "code",
   "execution_count": null,
   "id": "2e124a6c",
   "metadata": {},
   "outputs": [],
   "source": [
    "# Set the figure size\n",
    "rcParams['figure.figsize'] = 11, 9\n",
    "\n",
    "# Perform seasonal decomposition with the correct period parameter (assuming the frequency is annual)\n",
    "decomposed_google_volume = sm.tsa.seasonal_decompose(google[\"Close\"], period=360)\n",
    "\n",
    "# Plot the decomposition\n",
    "figure = decomposed_google_volume.plot()\n",
    "plt.show()"
   ]
  },
  {
   "cell_type": "code",
   "execution_count": null,
   "id": "dae6c338",
   "metadata": {},
   "outputs": [],
   "source": [
    "rcParams['figure.figsize'] = 11, 9\n",
    "\n",
    "# Perform seasonal decomposition with the correct period parameter (assuming the frequency is annual)\n",
    "decomposed_microsoft_volume = sm.tsa.seasonal_decompose(microsoft[\"Close\"], period=360)\n",
    "\n",
    "# Plot the decomposition\n",
    "figure = decomposed_microsoft_volume.plot()\n",
    "plt.show()"
   ]
  },
  {
   "cell_type": "code",
   "execution_count": null,
   "id": "d53cd747",
   "metadata": {},
   "outputs": [],
   "source": [
    "# Set the figure size\n",
    "rcParams['figure.figsize'] = 11, 9\n",
    "\n",
    "# Perform seasonal decomposition with the correct period parameter (assuming the frequency is annual)\n",
    "decomposed_amazon_volume = sm.tsa.seasonal_decompose(amazon[\"Close\"], period=360)\n",
    "\n",
    "# Plot the decomposition\n",
    "figure = decomposed_amazon_volume.plot()\n",
    "plt.show()\n"
   ]
  },
  {
   "cell_type": "code",
   "execution_count": null,
   "id": "62dea53c",
   "metadata": {},
   "outputs": [],
   "source": [
    "# Set the figure size\n",
    "rcParams['figure.figsize'] = 11, 9\n",
    "\n",
    "# Perform seasonal decomposition with the correct period parameter (assuming the frequency is annual)\n",
    "decomposed_ibm_volume = sm.tsa.seasonal_decompose(ibm[\"Close\"], period=360)\n",
    "\n",
    "# Plot the decomposition\n",
    "figure = decomposed_ibm_volume.plot()\n",
    "plt.show()"
   ]
  },
  {
   "cell_type": "code",
   "execution_count": null,
   "id": "39f585dd",
   "metadata": {},
   "outputs": [],
   "source": [
    "filepath = 'AMZN_2006-01-01_to_2018-01-01.csv'\n",
    "data_amazon = pd.read_csv(filepath)\n",
    "data_amazon = data_amazon.sort_values('Date')\n",
    "data_amazon.head()"
   ]
  },
  {
   "cell_type": "code",
   "execution_count": null,
   "id": "2411cfcb",
   "metadata": {},
   "outputs": [],
   "source": [
    "import matplotlib.pyplot as plt\n",
    "import seaborn as sns\n",
    "\n",
    "sns.set_style(\"darkgrid\")\n",
    "plt.figure(figsize = (15,9))\n",
    "plt.plot(data_amazon[['Close']])\n",
    "plt.xticks(range(0,data_amazon.shape[0],500),data_amazon['Date'].loc[::500],rotation=45)\n",
    "plt.title(\"Amazon Stock Price\",fontsize=18, fontweight='bold')\n",
    "plt.xlabel('Date',fontsize=18)\n",
    "plt.ylabel('Close Price (USD)',fontsize=18)\n",
    "plt.show()"
   ]
  },
  {
   "cell_type": "code",
   "execution_count": null,
   "id": "4252ff3d",
   "metadata": {},
   "outputs": [],
   "source": [
    "filepath = 'GOOGL_2006-01-01_to_2018-01-01.csv'\n",
    "data_google = pd.read_csv(filepath)\n",
    "data_google = data_google.sort_values('Date')\n",
    "data_google.head()"
   ]
  },
  {
   "cell_type": "code",
   "execution_count": null,
   "id": "2ac0e7aa",
   "metadata": {},
   "outputs": [],
   "source": [
    "import matplotlib.pyplot as plt\n",
    "import seaborn as sns\n",
    "\n",
    "sns.set_style(\"darkgrid\")\n",
    "plt.figure(figsize = (15,9))\n",
    "plt.plot(data_google[['Close']])\n",
    "plt.xticks(range(0,data_google.shape[0],500),data_google['Date'].loc[::500],rotation=45)\n",
    "plt.title(\"Google Stock Price\",fontsize=18, fontweight='bold')\n",
    "plt.xlabel('Date',fontsize=18)\n",
    "plt.ylabel('Close Price (USD)',fontsize=18)\n",
    "plt.show()"
   ]
  },
  {
   "cell_type": "code",
   "execution_count": null,
   "id": "87537244",
   "metadata": {},
   "outputs": [],
   "source": [
    "filepath = 'IBM_2006-01-01_to_2018-01-01.csv'\n",
    "data_ibm = pd.read_csv(filepath)\n",
    "data_ibm = data_ibm.sort_values('Date')\n",
    "data_ibm.head()"
   ]
  },
  {
   "cell_type": "code",
   "execution_count": null,
   "id": "5b048e78",
   "metadata": {},
   "outputs": [],
   "source": [
    "filepath = 'MSFT_2006-01-01_to_2018-01-01.csv'\n",
    "data_microsoft = pd.read_csv(filepath)\n",
    "data_microsoft = data_microsoft.sort_values('Date')\n",
    "data_microsoft.head()"
   ]
  },
  {
   "cell_type": "code",
   "execution_count": null,
   "id": "6df9fcf5",
   "metadata": {},
   "outputs": [],
   "source": [
    "import matplotlib.pyplot as plt\n",
    "import seaborn as sns\n",
    "\n",
    "sns.set_style(\"darkgrid\")\n",
    "plt.figure(figsize = (15,9))\n",
    "plt.plot(data_microsoft[['Close']])\n",
    "plt.xticks(range(0,data_microsoft.shape[0],500),data_microsoft['Date'].loc[::500],rotation=45)\n",
    "plt.title(\"Microsoft Stock Price\",fontsize=18, fontweight='bold')\n",
    "plt.xlabel('Date',fontsize=18)\n",
    "plt.ylabel('Close Price (USD)',fontsize=18)\n",
    "plt.show()"
   ]
  },
  {
   "cell_type": "code",
   "execution_count": null,
   "id": "b84a3c93",
   "metadata": {},
   "outputs": [],
   "source": [
    "price_amazon = data_amazon[['Close']]\n",
    "price_amazon.info()"
   ]
  },
  {
   "cell_type": "code",
   "execution_count": null,
   "id": "880f0986",
   "metadata": {},
   "outputs": [],
   "source": [
    "from sklearn.preprocessing import MinMaxScaler\n",
    "\n",
    "scaler = MinMaxScaler(feature_range=(-1, 1))\n",
    "price_amazon['Close'] = scaler.fit_transform(price_amazon['Close'].values.reshape(-1,1))"
   ]
  },
  {
   "cell_type": "code",
   "execution_count": null,
   "id": "2bb6baca",
   "metadata": {},
   "outputs": [],
   "source": [
    "\n",
    "def split_data(stock, lookback):\n",
    "    data_raw = stock.to_numpy() # convert to numpy array\n",
    "    data = []\n",
    "    \n",
    "    # create all possible sequences of length seq_len\n",
    "    for index in range(len(data_raw) - lookback): \n",
    "        data.append(data_raw[index: index + lookback])\n",
    "    \n",
    "    data = np.array(data);\n",
    "    test_set_size = int(np.round(0.2*data.shape[0]));\n",
    "    train_set_size = data.shape[0] - (test_set_size);\n",
    "    \n",
    "    x_train = data[:train_set_size,:-1,:]\n",
    "    y_train = data[:train_set_size,-1,:]\n",
    "    \n",
    "    x_test = data[train_set_size:,:-1]\n",
    "    y_test = data[train_set_size:,-1,:]\n",
    "    \n",
    "    return [x_train, y_train, x_test, y_test]"
   ]
  },
  {
   "cell_type": "code",
   "execution_count": null,
   "id": "a92a0e4d",
   "metadata": {},
   "outputs": [],
   "source": [
    "lookback = 20 # choose sequence length\n",
    "x_train, y_train, x_test, y_test = split_data(price_amazon, lookback)\n",
    "print('x_train.shape = ',x_train.shape)\n",
    "print('y_train.shape = ',y_train.shape)\n",
    "print('x_test.shape = ',x_test.shape)\n",
    "print('y_test.shape = ',y_test.shape)"
   ]
  },
  {
   "cell_type": "code",
   "execution_count": null,
   "id": "6d8ea89e",
   "metadata": {},
   "outputs": [],
   "source": [
    "import torch\n",
    "import torch.nn as nn\n",
    "\n",
    "x_train = torch.from_numpy(x_train).type(torch.Tensor)\n",
    "x_test = torch.from_numpy(x_test).type(torch.Tensor)\n",
    "y_train_gru = torch.from_numpy(y_train).type(torch.Tensor)\n",
    "y_test_gru = torch.from_numpy(y_test).type(torch.Tensor)"
   ]
  },
  {
   "cell_type": "code",
   "execution_count": null,
   "id": "08a2d2e1",
   "metadata": {},
   "outputs": [],
   "source": [
    "input_dim = 1\n",
    "hidden_dim = 32\n",
    "num_layers = 2\n",
    "output_dim = 1\n",
    "num_epochs = 105"
   ]
  },
  {
   "cell_type": "code",
   "execution_count": null,
   "id": "6682652e",
   "metadata": {},
   "outputs": [],
   "source": [
    "class GRU(nn.Module):\n",
    "    def __init__(self, input_dim, hidden_dim, num_layers, output_dim):\n",
    "        super(GRU, self).__init__()\n",
    "        self.hidden_dim = hidden_dim\n",
    "        self.num_layers = num_layers\n",
    "        \n",
    "        self.gru = nn.GRU(input_dim, hidden_dim, num_layers, batch_first=True)\n",
    "        self.fc = nn.Linear(hidden_dim, output_dim)\n",
    "\n",
    "    def forward(self, x):\n",
    "        h0 = torch.zeros(self.num_layers, x.size(0), self.hidden_dim).requires_grad_()\n",
    "        out, (hn) = self.gru(x, (h0.detach()))\n",
    "        out = self.fc(out[:, -1, :]) \n",
    "        return out"
   ]
  },
  {
   "cell_type": "code",
   "execution_count": null,
   "id": "d0d659ab",
   "metadata": {},
   "outputs": [],
   "source": [
    "model = GRU(input_dim=input_dim, hidden_dim=hidden_dim, output_dim=output_dim, num_layers=num_layers)\n",
    "criterion = torch.nn.MSELoss(reduction='mean')\n",
    "optimiser = torch.optim.Adam(model.parameters(), lr=0.01)"
   ]
  },
  {
   "cell_type": "code",
   "execution_count": null,
   "id": "0b763c7e",
   "metadata": {},
   "outputs": [],
   "source": [
    "import time  # Add this line to import the 'time' module\n",
    "import numpy as np\n",
    "\n",
    "num_epochs = 100\n",
    "hist = np.zeros(num_epochs)\n",
    "start_time = time.time()\n",
    "gru = []\n",
    "\n",
    "for t in range(num_epochs):\n",
    "    y_train_pred = model(x_train)\n",
    "\n",
    "    loss = criterion(y_train_pred, y_train_gru)\n",
    "    print(\"Epoch \", t, \"MSE: \", loss.item())\n",
    "    hist[t] = loss.item()\n",
    "\n",
    "    optimiser.zero_grad()\n",
    "    loss.backward()\n",
    "    optimiser.step()\n",
    "\n",
    "training_time = time.time() - start_time\n",
    "print(\"Training time: {}\".format(training_time))\n"
   ]
  },
  {
   "cell_type": "code",
   "execution_count": null,
   "id": "4962927d",
   "metadata": {},
   "outputs": [],
   "source": [
    "predict = pd.DataFrame(scaler.inverse_transform(y_train_pred.detach().numpy()))\n",
    "original = pd.DataFrame(scaler.inverse_transform(y_train_gru.detach().numpy()))"
   ]
  },
  {
   "cell_type": "code",
   "execution_count": null,
   "id": "7768ce84",
   "metadata": {},
   "outputs": [],
   "source": [
    "import seaborn as sns\n",
    "sns.set_style(\"darkgrid\")    \n",
    "\n",
    "fig = plt.figure()\n",
    "fig.subplots_adjust(hspace=0.2, wspace=0.2)\n",
    "\n",
    "plt.subplot(1, 2, 1)\n",
    "ax = sns.lineplot(x = original.index, y = original[0], label=\"Data\", color='royalblue')\n",
    "ax = sns.lineplot(x = predict.index, y = predict[0], label=\"Training Prediction (GRU)\", color='tomato')\n",
    "ax.set_title('Amazon stock price', size = 14, fontweight='bold')\n",
    "ax.set_xlabel(\"Days\", size = 14)\n",
    "ax.set_ylabel(\"Cost (USD)\", size = 14)\n",
    "ax.set_xticklabels('', size=10)\n",
    "\n",
    "\n",
    "plt.subplot(1, 2, 2)\n",
    "ax = sns.lineplot(data=hist, color='royalblue')\n",
    "ax.set_xlabel(\"Epoch\", size = 14)\n",
    "ax.set_ylabel(\"Loss\", size = 14)\n",
    "ax.set_title(\"Training Loss\", size = 14, fontweight='bold')\n",
    "fig.set_figheight(6)\n",
    "fig.set_figwidth(16)"
   ]
  },
  {
   "cell_type": "code",
   "execution_count": null,
   "id": "4f2993e3",
   "metadata": {},
   "outputs": [],
   "source": [
    "import math, time\n",
    "from sklearn.metrics import mean_squared_error\n",
    "\n",
    "# make predictions\n",
    "y_test_pred = model(x_test)\n",
    "\n",
    "# invert predictions\n",
    "y_train_pred = scaler.inverse_transform(y_train_pred.detach().numpy())\n",
    "y_train = scaler.inverse_transform(y_train_gru.detach().numpy())\n",
    "y_test_pred = scaler.inverse_transform(y_test_pred.detach().numpy())\n",
    "y_test = scaler.inverse_transform(y_test_gru.detach().numpy())\n",
    "\n",
    "# calculate root mean squared error\n",
    "trainScore = math.sqrt(mean_squared_error(y_train[:,0], y_train_pred[:,0]))\n",
    "print('Train Score: %.2f RMSE' % (trainScore))\n",
    "testScore = math.sqrt(mean_squared_error(y_test[:,0], y_test_pred[:,0]))\n",
    "print('Test Score: %.2f RMSE' % (testScore))\n",
    "gru.append(trainScore)\n",
    "gru.append(testScore)\n",
    "gru.append(training_time)"
   ]
  },
  {
   "cell_type": "code",
   "execution_count": null,
   "id": "4842d16a",
   "metadata": {},
   "outputs": [],
   "source": [
    "# shift train predictions for plotting\n",
    "trainPredictPlot = np.empty_like(price_amazon)\n",
    "trainPredictPlot[:, :] = np.nan\n",
    "trainPredictPlot[lookback:len(y_train_pred)+lookback, :] = y_train_pred\n",
    "\n",
    "# shift test predictions for plotting\n",
    "testPredictPlot = np.empty_like(price_amazon)\n",
    "testPredictPlot[:, :] = np.nan\n",
    "testPredictPlot[len(y_train_pred)+lookback-1:len(price_amazon)-1, :] = y_test_pred\n",
    "\n",
    "original = scaler.inverse_transform(price_amazon['Close'].values.reshape(-1,1))\n",
    "\n",
    "predictions = np.append(trainPredictPlot, testPredictPlot, axis=1)\n",
    "predictions = np.append(predictions, original, axis=1)\n",
    "result = pd.DataFrame(predictions)"
   ]
  },
  {
   "cell_type": "code",
   "execution_count": null,
   "id": "e24ee925",
   "metadata": {},
   "outputs": [],
   "source": [
    "import plotly.express as px\n",
    "import plotly.graph_objects as go\n",
    "\n",
    "fig = go.Figure()\n",
    "fig.add_trace(go.Scatter(go.Scatter(x=result.index, y=result[0],\n",
    "                    mode='lines',\n",
    "                    name='Train prediction')))\n",
    "fig.add_trace(go.Scatter(x=result.index, y=result[1],\n",
    "                    mode='lines',\n",
    "                    name='Test prediction'))\n",
    "fig.add_trace(go.Scatter(go.Scatter(x=result.index, y=result[2],\n",
    "                    mode='lines',\n",
    "                    name='Actual Value')))\n",
    "fig.update_layout(\n",
    "    xaxis=dict(\n",
    "        showline=True,\n",
    "        showgrid=True,\n",
    "        showticklabels=False,\n",
    "        linecolor='white',\n",
    "        linewidth=2\n",
    "    ),\n",
    "    yaxis=dict(\n",
    "        title_text='Close (USD)',\n",
    "        titlefont=dict(\n",
    "            family='Rockwell',\n",
    "            size=12,\n",
    "            color='white',\n",
    "        ),\n",
    "        showline=True,\n",
    "        showgrid=True,\n",
    "        showticklabels=True,\n",
    "        linecolor='white',\n",
    "        linewidth=2,\n",
    "        ticks='outside',\n",
    "        tickfont=dict(\n",
    "            family='Rockwell',\n",
    "            size=12,\n",
    "            color='white',\n",
    "        ),\n",
    "    ),\n",
    "    showlegend=True,\n",
    "    template = 'plotly_dark'\n",
    "\n",
    ")\n",
    "\n",
    "\n",
    "\n",
    "annotations = []\n",
    "annotations.append(dict(xref='paper', yref='paper', x=0.0, y=1.05,\n",
    "                              xanchor='left', yanchor='bottom',\n",
    "                              text='Amazon Stock Prediction',\n",
    "                              font=dict(family='Rockwell',\n",
    "                                        size=26,\n",
    "                                        color='white'),\n",
    "                              showarrow=False))\n",
    "fig.update_layout(annotations=annotations)\n",
    "\n",
    "fig.show()"
   ]
  },
  {
   "cell_type": "code",
   "execution_count": null,
   "id": "230ab19e",
   "metadata": {},
   "outputs": [],
   "source": [
    "price_google = google[['Close']]\n",
    "price_google.info()"
   ]
  },
  {
   "cell_type": "code",
   "execution_count": null,
   "id": "521063e6",
   "metadata": {},
   "outputs": [],
   "source": [
    "from sklearn.preprocessing import MinMaxScaler\n",
    "\n",
    "scaler = MinMaxScaler(feature_range=(-1, 1))\n",
    "price_google['Close'] = scaler.fit_transform(price_google['Close'].values.reshape(-1,1))"
   ]
  },
  {
   "cell_type": "code",
   "execution_count": null,
   "id": "e9073d85",
   "metadata": {},
   "outputs": [],
   "source": [
    "lookback = 20 # choose sequence length\n",
    "x_train, y_train, x_test, y_test = split_data(price_google, lookback)\n",
    "print('x_train.shape = ',x_train.shape)\n",
    "print('y_train.shape = ',y_train.shape)\n",
    "print('x_test.shape = ',x_test.shape)\n",
    "print('y_test.shape = ',y_test.shape)"
   ]
  },
  {
   "cell_type": "code",
   "execution_count": null,
   "id": "5d8f271d",
   "metadata": {},
   "outputs": [],
   "source": [
    "import torch\n",
    "import torch.nn as nn\n",
    "\n",
    "x_train = torch.from_numpy(x_train).type(torch.Tensor)\n",
    "x_test = torch.from_numpy(x_test).type(torch.Tensor)\n",
    "y_train_lstm = torch.from_numpy(y_train).type(torch.Tensor)\n",
    "y_test_lstm = torch.from_numpy(y_test).type(torch.Tensor)\n",
    "y_train_gru = torch.from_numpy(y_train).type(torch.Tensor)\n",
    "y_test_gru = torch.from_numpy(y_test).type(torch.Tensor)"
   ]
  },
  {
   "cell_type": "code",
   "execution_count": null,
   "id": "481603de",
   "metadata": {},
   "outputs": [],
   "source": [
    "model = GRU(input_dim=input_dim, hidden_dim=hidden_dim, output_dim=output_dim, num_layers=num_layers)\n",
    "criterion = torch.nn.MSELoss(reduction='mean')\n",
    "optimiser = torch.optim.Adam(model.parameters(), lr=0.01)"
   ]
  },
  {
   "cell_type": "code",
   "execution_count": null,
   "id": "d460c3c0",
   "metadata": {},
   "outputs": [],
   "source": [
    "hist = np.zeros(num_epochs)\n",
    "start_time = time.time()\n",
    "gru = []\n",
    "\n",
    "for t in range(num_epochs):\n",
    "    y_train_pred = model(x_train)\n",
    "\n",
    "    loss = criterion(y_train_pred, y_train_gru)\n",
    "    print(\"Epoch \", t, \"MSE: \", loss.item())\n",
    "    hist[t] = loss.item()\n",
    "\n",
    "    optimiser.zero_grad()\n",
    "    loss.backward()\n",
    "    optimiser.step()\n",
    "\n",
    "training_time = time.time()-start_time    \n",
    "print(\"Training time: {}\".format(training_time))"
   ]
  },
  {
   "cell_type": "code",
   "execution_count": null,
   "id": "6a5bfde8",
   "metadata": {},
   "outputs": [],
   "source": [
    "predict = pd.DataFrame(scaler.inverse_transform(y_train_pred.detach().numpy()))\n",
    "original = pd.DataFrame(scaler.inverse_transform(y_train_gru.detach().numpy()))"
   ]
  },
  {
   "cell_type": "code",
   "execution_count": null,
   "id": "f2b1ffce",
   "metadata": {},
   "outputs": [],
   "source": [
    "import seaborn as sns\n",
    "sns.set_style(\"darkgrid\")    \n",
    "\n",
    "fig = plt.figure()\n",
    "fig.subplots_adjust(hspace=0.2, wspace=0.2)\n",
    "\n",
    "plt.subplot(1, 2, 1)\n",
    "ax = sns.lineplot(x = original.index, y = original[0], label=\"Data\", color='royalblue')\n",
    "ax = sns.lineplot(x = predict.index, y = predict[0], label=\"Training Prediction (GRU)\", color='tomato')\n",
    "ax.set_title('Google stock price', size = 14, fontweight='bold')\n",
    "ax.set_xlabel(\"Days\", size = 14)\n",
    "ax.set_ylabel(\"Cost (USD)\", size = 14)\n",
    "ax.set_xticklabels('', size=10)\n",
    "\n",
    "\n",
    "plt.subplot(1, 2, 2)\n",
    "ax = sns.lineplot(data=hist, color='royalblue')\n",
    "ax.set_xlabel(\"Epoch\", size = 14)\n",
    "ax.set_ylabel(\"Loss\", size = 14)\n",
    "ax.set_title(\"Training Loss\", size = 14, fontweight='bold')\n",
    "fig.set_figheight(6)\n",
    "fig.set_figwidth(16)"
   ]
  },
  {
   "cell_type": "code",
   "execution_count": null,
   "id": "70a357a5",
   "metadata": {},
   "outputs": [],
   "source": [
    "import math, time\n",
    "from sklearn.metrics import mean_squared_error\n",
    "\n",
    "# make predictions\n",
    "y_test_pred = model(x_test)\n",
    "\n",
    "# invert predictions\n",
    "y_train_pred = scaler.inverse_transform(y_train_pred.detach().numpy())\n",
    "y_train = scaler.inverse_transform(y_train_gru.detach().numpy())\n",
    "y_test_pred = scaler.inverse_transform(y_test_pred.detach().numpy())\n",
    "y_test = scaler.inverse_transform(y_test_gru.detach().numpy())\n",
    "\n",
    "# calculate root mean squared error\n",
    "trainScore = math.sqrt(mean_squared_error(y_train[:,0], y_train_pred[:,0]))\n",
    "print('Train Score: %.2f RMSE' % (trainScore))\n",
    "testScore = math.sqrt(mean_squared_error(y_test[:,0], y_test_pred[:,0]))\n",
    "print('Test Score: %.2f RMSE' % (testScore))\n",
    "gru.append(trainScore)\n",
    "gru.append(testScore)\n",
    "gru.append(training_time)"
   ]
  },
  {
   "cell_type": "code",
   "execution_count": null,
   "id": "a1e50e9b",
   "metadata": {},
   "outputs": [],
   "source": [
    "\n",
    "# shift train predictions for plotting\n",
    "trainPredictPlot = np.empty_like(price_google)\n",
    "trainPredictPlot[:, :] = np.nan\n",
    "trainPredictPlot[lookback:len(y_train_pred)+lookback, :] = y_train_pred\n",
    "\n",
    "# shift test predictions for plotting\n",
    "testPredictPlot = np.empty_like(price_google)\n",
    "testPredictPlot[:, :] = np.nan\n",
    "testPredictPlot[len(y_train_pred)+lookback-1:len(price_google)-1, :] = y_test_pred\n",
    "\n",
    "original = scaler.inverse_transform(price_google['Close'].values.reshape(-1,1))\n",
    "\n",
    "predictions = np.append(trainPredictPlot, testPredictPlot, axis=1)\n",
    "predictions = np.append(predictions, original, axis=1)\n",
    "result = pd.DataFrame(predictions)"
   ]
  },
  {
   "cell_type": "code",
   "execution_count": null,
   "id": "7df6753f",
   "metadata": {},
   "outputs": [],
   "source": [
    "import plotly.express as px\n",
    "import plotly.graph_objects as go\n",
    "\n",
    "fig = go.Figure()\n",
    "fig.add_trace(go.Scatter(go.Scatter(x=result.index, y=result[0],\n",
    "                    mode='lines',\n",
    "                    name='Train prediction')))\n",
    "fig.add_trace(go.Scatter(x=result.index, y=result[1],\n",
    "                    mode='lines',\n",
    "                    name='Test prediction'))\n",
    "fig.add_trace(go.Scatter(go.Scatter(x=result.index, y=result[2],\n",
    "                    mode='lines',\n",
    "                    name='Actual Value')))\n",
    "fig.update_layout(\n",
    "    xaxis=dict(\n",
    "        showline=True,\n",
    "        showgrid=True,\n",
    "        showticklabels=False,\n",
    "        linecolor='white',\n",
    "        linewidth=2\n",
    "    ),\n",
    "    yaxis=dict(\n",
    "        title_text='Close (USD)',\n",
    "        titlefont=dict(\n",
    "            family='Rockwell',\n",
    "            size=12,\n",
    "            color='white',\n",
    "        ),\n",
    "        showline=True,\n",
    "        showgrid=True,\n",
    "        showticklabels=True,\n",
    "        linecolor='white',\n",
    "        linewidth=2,\n",
    "        ticks='outside',\n",
    "        tickfont=dict(\n",
    "            family='Rockwell',\n",
    "            size=12,\n",
    "            color='white',\n",
    "        ),\n",
    "    ),\n",
    "    showlegend=True,\n",
    "    template = 'plotly_dark'\n",
    "\n",
    ")\n",
    "\n",
    "\n",
    "\n",
    "annotations = []\n",
    "annotations.append(dict(xref='paper', yref='paper', x=0.0, y=1.05,\n",
    "                              xanchor='left', yanchor='bottom',\n",
    "                              text='Google Stock Result',\n",
    "                              font=dict(family='Rockwell',\n",
    "                                        size=26,\n",
    "                                        color='white'),\n",
    "                              showarrow=False))\n",
    "fig.update_layout(annotations=annotations)\n",
    "\n",
    "fig.show()"
   ]
  },
  {
   "cell_type": "code",
   "execution_count": null,
   "id": "c732efa6",
   "metadata": {},
   "outputs": [],
   "source": [
    "price_ibm = data_ibm[['Close']]\n",
    "price_ibm.info()"
   ]
  },
  {
   "cell_type": "code",
   "execution_count": null,
   "id": "10af40ff",
   "metadata": {},
   "outputs": [],
   "source": [
    "from sklearn.preprocessing import MinMaxScaler\n",
    "\n",
    "scaler = MinMaxScaler(feature_range=(-1, 1))\n",
    "price_ibm['Close'] = scaler.fit_transform(price_ibm['Close'].values.reshape(-1,1))"
   ]
  },
  {
   "cell_type": "code",
   "execution_count": null,
   "id": "0ed94105",
   "metadata": {},
   "outputs": [],
   "source": [
    "lookback = 20 # choose sequence length\n",
    "x_train, y_train, x_test, y_test = split_data(price_ibm, lookback)\n",
    "print('x_train.shape = ',x_train.shape)\n",
    "print('y_train.shape = ',y_train.shape)\n",
    "print('x_test.shape = ',x_test.shape)\n",
    "print('y_test.shape = ',y_test.shape)"
   ]
  },
  {
   "cell_type": "code",
   "execution_count": null,
   "id": "7d6e41e7",
   "metadata": {},
   "outputs": [],
   "source": [
    "import torch\n",
    "import torch.nn as nn\n",
    "\n",
    "x_train = torch.from_numpy(x_train).type(torch.Tensor)\n",
    "x_test = torch.from_numpy(x_test).type(torch.Tensor)\n",
    "y_train_gru = torch.from_numpy(y_train).type(torch.Tensor)\n",
    "y_test_gru = torch.from_numpy(y_test).type(torch.Tensor)"
   ]
  },
  {
   "cell_type": "code",
   "execution_count": null,
   "id": "29b42f54",
   "metadata": {},
   "outputs": [],
   "source": [
    "input_dim = 1\n",
    "hidden_dim = 32\n",
    "num_layers = 2\n",
    "output_dim = 1\n",
    "num_epochs = 105"
   ]
  },
  {
   "cell_type": "code",
   "execution_count": null,
   "id": "5dcfd8b3",
   "metadata": {},
   "outputs": [],
   "source": [
    "model = GRU(input_dim=input_dim, hidden_dim=hidden_dim, output_dim=output_dim, num_layers=num_layers)\n",
    "criterion = torch.nn.MSELoss(reduction='mean')\n",
    "optimiser = torch.optim.Adam(model.parameters(), lr=0.01)"
   ]
  },
  {
   "cell_type": "code",
   "execution_count": null,
   "id": "40afa484",
   "metadata": {},
   "outputs": [],
   "source": [
    "hist = np.zeros(num_epochs)\n",
    "start_time = time.time()\n",
    "gru = []\n",
    "\n",
    "for t in range(num_epochs):\n",
    "    y_train_pred = model(x_train)\n",
    "\n",
    "    loss = criterion(y_train_pred, y_train_gru)\n",
    "    print(\"Epoch \", t, \"MSE: \", loss.item())\n",
    "    hist[t] = loss.item()\n",
    "\n",
    "    optimiser.zero_grad()\n",
    "    loss.backward()\n",
    "    optimiser.step()\n",
    "\n",
    "training_time = time.time()-start_time    \n",
    "print(\"Training time: {}\".format(training_time))"
   ]
  },
  {
   "cell_type": "code",
   "execution_count": null,
   "id": "6ef5501a",
   "metadata": {},
   "outputs": [],
   "source": [
    "predict = pd.DataFrame(scaler.inverse_transform(y_train_pred.detach().numpy()))\n",
    "original = pd.DataFrame(scaler.inverse_transform(y_train_gru.detach().numpy()))"
   ]
  },
  {
   "cell_type": "code",
   "execution_count": null,
   "id": "267bd2e5",
   "metadata": {},
   "outputs": [],
   "source": [
    "import seaborn as sns\n",
    "sns.set_style(\"darkgrid\")    \n",
    "\n",
    "fig = plt.figure()\n",
    "fig.subplots_adjust(hspace=0.2, wspace=0.2)\n",
    "\n",
    "plt.subplot(1, 2, 1)\n",
    "ax = sns.lineplot(x = original.index, y = original[0], label=\"Data\", color='royalblue')\n",
    "ax = sns.lineplot(x = predict.index, y = predict[0], label=\"Training Prediction (GRU)\", color='tomato')\n",
    "ax.set_title('IBM stock price', size = 14, fontweight='bold')\n",
    "ax.set_xlabel(\"Days\", size = 14)\n",
    "ax.set_ylabel(\"Cost (USD)\", size = 14)\n",
    "ax.set_xticklabels('', size=10)\n",
    "\n",
    "\n",
    "plt.subplot(1, 2, 2)\n",
    "ax = sns.lineplot(data=hist, color='royalblue')\n",
    "ax.set_xlabel(\"Epoch\", size = 14)\n",
    "ax.set_ylabel(\"Loss\", size = 14)\n",
    "ax.set_title(\"Training Loss\", size = 14, fontweight='bold')\n",
    "fig.set_figheight(6)\n",
    "fig.set_figwidth(16)"
   ]
  },
  {
   "cell_type": "code",
   "execution_count": null,
   "id": "e1d3e349",
   "metadata": {},
   "outputs": [],
   "source": [
    "import math, time\n",
    "from sklearn.metrics import mean_squared_error\n",
    "\n",
    "# make predictions\n",
    "y_test_pred = model(x_test)\n",
    "\n",
    "# invert predictions\n",
    "y_train_pred = scaler.inverse_transform(y_train_pred.detach().numpy())\n",
    "y_train = scaler.inverse_transform(y_train_gru.detach().numpy())\n",
    "y_test_pred = scaler.inverse_transform(y_test_pred.detach().numpy())\n",
    "y_test = scaler.inverse_transform(y_test_gru.detach().numpy())\n",
    "\n",
    "# calculate root mean squared error\n",
    "trainScore = math.sqrt(mean_squared_error(y_train[:,0], y_train_pred[:,0]))\n",
    "print('Train Score: %.2f RMSE' % (trainScore))\n",
    "testScore = math.sqrt(mean_squared_error(y_test[:,0], y_test_pred[:,0]))\n",
    "print('Test Score: %.2f RMSE' % (testScore))\n",
    "gru.append(trainScore)\n",
    "gru.append(testScore)\n",
    "gru.append(training_time)"
   ]
  },
  {
   "cell_type": "code",
   "execution_count": null,
   "id": "ca316042",
   "metadata": {},
   "outputs": [],
   "source": [
    "# shift train predictions for plotting\n",
    "trainPredictPlot = np.empty_like(price_ibm)\n",
    "trainPredictPlot[:, :] = np.nan\n",
    "trainPredictPlot[lookback:len(y_train_pred)+lookback, :] = y_train_pred\n",
    "\n",
    "# shift test predictions for plotting\n",
    "testPredictPlot = np.empty_like(price_ibm)\n",
    "testPredictPlot[:, :] = np.nan\n",
    "testPredictPlot[len(y_train_pred)+lookback-1:len(price_ibm)-1, :] = y_test_pred\n",
    "\n",
    "original = scaler.inverse_transform(price_ibm['Close'].values.reshape(-1,1))\n",
    "\n",
    "predictions = np.append(trainPredictPlot, testPredictPlot, axis=1)\n",
    "predictions = np.append(predictions, original, axis=1)\n",
    "result = pd.DataFrame(predictions)"
   ]
  },
  {
   "cell_type": "code",
   "execution_count": null,
   "id": "84c79d21",
   "metadata": {},
   "outputs": [],
   "source": [
    "\n",
    "import plotly.express as px\n",
    "import plotly.graph_objects as go\n",
    "\n",
    "fig = go.Figure()\n",
    "fig.add_trace(go.Scatter(go.Scatter(x=result.index, y=result[0],\n",
    "                    mode='lines',\n",
    "                    name='Train prediction')))\n",
    "fig.add_trace(go.Scatter(x=result.index, y=result[1],\n",
    "                    mode='lines',\n",
    "                    name='Test prediction'))\n",
    "fig.add_trace(go.Scatter(go.Scatter(x=result.index, y=result[2],\n",
    "                    mode='lines',\n",
    "                    name='Actual Value')))\n",
    "fig.update_layout(\n",
    "    xaxis=dict(\n",
    "        showline=True,\n",
    "        showgrid=True,\n",
    "        showticklabels=False,\n",
    "        linecolor='white',\n",
    "        linewidth=2\n",
    "    ),\n",
    "    yaxis=dict(\n",
    "        title_text='Close (USD)',\n",
    "        titlefont=dict(\n",
    "            family='Rockwell',\n",
    "            size=12,\n",
    "            color='white',\n",
    "        ),\n",
    "        showline=True,\n",
    "        showgrid=True,\n",
    "        showticklabels=True,\n",
    "        linecolor='white',\n",
    "        linewidth=2,\n",
    "        ticks='outside',\n",
    "        tickfont=dict(\n",
    "            family='Rockwell',\n",
    "            size=12,\n",
    "            color='white',\n",
    "        ),\n",
    "    ),\n",
    "    showlegend=True,\n",
    "    template = 'plotly_dark'\n",
    "\n",
    ")\n",
    "\n",
    "\n",
    "\n",
    "annotations = []\n",
    "annotations.append(dict(xref='paper', yref='paper', x=0.0, y=1.05,\n",
    "                              xanchor='left', yanchor='bottom',\n",
    "                              text='IBM Stock Prediction',\n",
    "                              font=dict(family='Rockwell',\n",
    "                                        size=26,\n",
    "                                        color='white'),\n",
    "                              showarrow=False))\n",
    "fig.update_layout(annotations=annotations)\n",
    "\n",
    "fig.show()"
   ]
  },
  {
   "cell_type": "code",
   "execution_count": null,
   "id": "a8e1288b",
   "metadata": {},
   "outputs": [],
   "source": [
    "price_microsoft = data_microsoft[['Close']]\n",
    "price_microsoft.info()"
   ]
  },
  {
   "cell_type": "code",
   "execution_count": null,
   "id": "6aaa3a67",
   "metadata": {},
   "outputs": [],
   "source": [
    "from sklearn.preprocessing import MinMaxScaler\n",
    "\n",
    "scaler = MinMaxScaler(feature_range=(-1, 1))\n",
    "price_microsoft['Close'] = scaler.fit_transform(price_microsoft['Close'].values.reshape(-1,1))"
   ]
  },
  {
   "cell_type": "code",
   "execution_count": null,
   "id": "b660fc9e",
   "metadata": {},
   "outputs": [],
   "source": [
    "lookback = 20 # choose sequence length\n",
    "x_train, y_train, x_test, y_test = split_data(price_microsoft, lookback)\n",
    "print('x_train.shape = ',x_train.shape)\n",
    "print('y_train.shape = ',y_train.shape)\n",
    "print('x_test.shape = ',x_test.shape)\n",
    "print('y_test.shape = ',y_test.shape)"
   ]
  },
  {
   "cell_type": "code",
   "execution_count": null,
   "id": "64989f14",
   "metadata": {},
   "outputs": [],
   "source": [
    "import torch\n",
    "import torch.nn as nn\n",
    "\n",
    "x_train = torch.from_numpy(x_train).type(torch.Tensor)\n",
    "x_test = torch.from_numpy(x_test).type(torch.Tensor)\n",
    "y_train_gru = torch.from_numpy(y_train).type(torch.Tensor)\n",
    "y_test_gru = torch.from_numpy(y_test).type(torch.Tensor)\n"
   ]
  },
  {
   "cell_type": "code",
   "execution_count": null,
   "id": "382caa21",
   "metadata": {},
   "outputs": [],
   "source": [
    "input_dim = 1\n",
    "hidden_dim = 32\n",
    "num_layers = 2\n",
    "output_dim = 1\n",
    "num_epochs = 105"
   ]
  },
  {
   "cell_type": "code",
   "execution_count": null,
   "id": "f6dd7b05",
   "metadata": {},
   "outputs": [],
   "source": [
    "model = GRU(input_dim=input_dim, hidden_dim=hidden_dim, output_dim=output_dim, num_layers=num_layers)\n",
    "criterion = torch.nn.MSELoss(reduction='mean')\n",
    "optimiser = torch.optim.Adam(model.parameters(), lr=0.01)"
   ]
  },
  {
   "cell_type": "code",
   "execution_count": null,
   "id": "bf1d5705",
   "metadata": {},
   "outputs": [],
   "source": [
    "hist = np.zeros(num_epochs)\n",
    "start_time = time.time()\n",
    "gru = []\n",
    "\n",
    "for t in range(num_epochs):\n",
    "    y_train_pred = model(x_train)\n",
    "\n",
    "    loss = criterion(y_train_pred, y_train_gru)\n",
    "    print(\"Epoch \", t, \"MSE: \", loss.item())\n",
    "    hist[t] = loss.item()\n",
    "\n",
    "    optimiser.zero_grad()\n",
    "    loss.backward()\n",
    "    optimiser.step()\n",
    "\n",
    "training_time = time.time()-start_time    \n",
    "print(\"Training time: {}\".format(training_time))"
   ]
  },
  {
   "cell_type": "code",
   "execution_count": null,
   "id": "662ff8b5",
   "metadata": {},
   "outputs": [],
   "source": [
    "predict = pd.DataFrame(scaler.inverse_transform(y_train_pred.detach().numpy()))\n",
    "original = pd.DataFrame(scaler.inverse_transform(y_train_gru.detach().numpy()))"
   ]
  },
  {
   "cell_type": "code",
   "execution_count": null,
   "id": "9c2ce5fd",
   "metadata": {},
   "outputs": [],
   "source": [
    "import seaborn as sns\n",
    "sns.set_style(\"darkgrid\")    \n",
    "\n",
    "fig = plt.figure()\n",
    "fig.subplots_adjust(hspace=0.2, wspace=0.2)\n",
    "\n",
    "plt.subplot(1, 2, 1)\n",
    "ax = sns.lineplot(x = original.index, y = original[0], label=\"Data\", color='royalblue')\n",
    "ax = sns.lineplot(x = predict.index, y = predict[0], label=\"Training Prediction (GRU)\", color='tomato')\n",
    "ax.set_title('Microsoft stock price', size = 14, fontweight='bold')\n",
    "ax.set_xlabel(\"Days\", size = 14)\n",
    "ax.set_ylabel(\"Cost (USD)\", size = 14)\n",
    "ax.set_xticklabels('', size=10)\n",
    "\n",
    "\n",
    "plt.subplot(1, 2, 2)\n",
    "ax = sns.lineplot(data=hist, color='royalblue')\n",
    "ax.set_xlabel(\"Epoch\", size = 14)\n",
    "ax.set_ylabel(\"Loss\", size = 14)\n",
    "ax.set_title(\"Training Loss\", size = 14, fontweight='bold')\n",
    "fig.set_figheight(6)\n",
    "fig.set_figwidth(16)"
   ]
  },
  {
   "cell_type": "code",
   "execution_count": null,
   "id": "f622313f",
   "metadata": {},
   "outputs": [],
   "source": [
    "import math, time\n",
    "from sklearn.metrics import mean_squared_error\n",
    "\n",
    "# make predictions\n",
    "y_test_pred = model(x_test)\n",
    "\n",
    "# invert predictions\n",
    "y_train_pred = scaler.inverse_transform(y_train_pred.detach().numpy())\n",
    "y_train = scaler.inverse_transform(y_train_gru.detach().numpy())\n",
    "y_test_pred = scaler.inverse_transform(y_test_pred.detach().numpy())\n",
    "y_test = scaler.inverse_transform(y_test_gru.detach().numpy())\n",
    "\n",
    "# calculate root mean squared error\n",
    "trainScore = math.sqrt(mean_squared_error(y_train[:,0], y_train_pred[:,0]))\n",
    "print('Train Score: %.2f RMSE' % (trainScore))\n",
    "testScore = math.sqrt(mean_squared_error(y_test[:,0], y_test_pred[:,0]))\n",
    "print('Test Score: %.2f RMSE' % (testScore))\n",
    "gru.append(trainScore)\n",
    "gru.append(testScore)\n",
    "gru.append(training_time)"
   ]
  },
  {
   "cell_type": "code",
   "execution_count": null,
   "id": "1927b77a",
   "metadata": {},
   "outputs": [],
   "source": [
    "# shift train predictions for plotting\n",
    "trainPredictPlot = np.empty_like(price_microsoft)\n",
    "trainPredictPlot[:, :] = np.nan\n",
    "trainPredictPlot[lookback:len(y_train_pred)+lookback, :] = y_train_pred\n",
    "\n",
    "# shift test predictions for plotting\n",
    "testPredictPlot = np.empty_like(price_microsoft)\n",
    "testPredictPlot[:, :] = np.nan\n",
    "testPredictPlot[len(y_train_pred)+lookback-1:len(price_microsoft)-1, :] = y_test_pred\n",
    "\n",
    "original = scaler.inverse_transform(price_microsoft['Close'].values.reshape(-1,1))\n",
    "\n",
    "predictions = np.append(trainPredictPlot, testPredictPlot, axis=1)\n",
    "predictions = np.append(predictions, original, axis=1)\n",
    "result = pd.DataFrame(predictions)"
   ]
  },
  {
   "cell_type": "code",
   "execution_count": null,
   "id": "ddc64900",
   "metadata": {},
   "outputs": [],
   "source": [
    "\n",
    "import plotly.express as px\n",
    "import plotly.graph_objects as go\n",
    "\n",
    "fig = go.Figure()\n",
    "fig.add_trace(go.Scatter(go.Scatter(x=result.index, y=result[0],\n",
    "                    mode='lines',\n",
    "                    name='Train prediction')))\n",
    "fig.add_trace(go.Scatter(x=result.index, y=result[1],\n",
    "                    mode='lines',\n",
    "                    name='Test prediction'))\n",
    "fig.add_trace(go.Scatter(go.Scatter(x=result.index, y=result[2],\n",
    "                    mode='lines',\n",
    "                    name='Actual Value')))\n",
    "fig.update_layout(\n",
    "    xaxis=dict(\n",
    "        showline=True,\n",
    "        showgrid=True,\n",
    "        showticklabels=False,\n",
    "        linecolor='white',\n",
    "        linewidth=2\n",
    "    ),\n",
    "    yaxis=dict(\n",
    "        title_text='Close (USD)',\n",
    "        titlefont=dict(\n",
    "            family='Rockwell',\n",
    "            size=12,\n",
    "            color='white',\n",
    "        ),\n",
    "        showline=True,\n",
    "        showgrid=True,\n",
    "        showticklabels=True,\n",
    "        linecolor='white',\n",
    "        linewidth=2,\n",
    "        ticks='outside',\n",
    "        tickfont=dict(\n",
    "            family='Rockwell',\n",
    "            size=12,\n",
    "            color='white',\n",
    "        ),\n",
    "    ),\n",
    "    showlegend=True,\n",
    "    template = 'plotly_dark'\n",
    "\n",
    ")\n",
    "\n",
    "\n",
    "\n",
    "annotations = []\n",
    "annotations.append(dict(xref='paper', yref='paper', x=0.0, y=1.05,\n",
    "                              xanchor='left', yanchor='bottom',\n",
    "                              text='Microsoft Stock Prediction',\n",
    "                              font=dict(family='Rockwell',\n",
    "                                        size=26,\n",
    "                                        color='white'),\n",
    "                              showarrow=False))\n",
    "fig.update_layout(annotations=annotations)\n",
    "\n",
    "fig.show()"
   ]
  },
  {
   "cell_type": "code",
   "execution_count": null,
   "id": "debe3c39",
   "metadata": {},
   "outputs": [],
   "source": []
  }
 ],
 "metadata": {
  "kernelspec": {
   "display_name": "Python 3 (ipykernel)",
   "language": "python",
   "name": "python3"
  },
  "language_info": {
   "codemirror_mode": {
    "name": "ipython",
    "version": 3
   },
   "file_extension": ".py",
   "mimetype": "text/x-python",
   "name": "python",
   "nbconvert_exporter": "python",
   "pygments_lexer": "ipython3",
   "version": "3.11.5"
  }
 },
 "nbformat": 4,
 "nbformat_minor": 5
}
